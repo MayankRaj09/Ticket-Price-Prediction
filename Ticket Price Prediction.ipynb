{
 "cells": [
  {
   "cell_type": "markdown",
   "id": "5b1e85a3",
   "metadata": {},
   "source": [
    "# Ticket Price Prediction  "
   ]
  },
  {
   "cell_type": "code",
   "execution_count": 1,
   "id": "b7af693d",
   "metadata": {},
   "outputs": [],
   "source": [
    "import numpy as np\n",
    "import pandas as pd\n",
    "from sklearn.model_selection import train_test_split\n",
    "from sklearn.linear_model import LinearRegression\n",
    "from sklearn import metrics\n",
    "import seaborn as sns \n",
    "import matplotlib.pyplot as plt\n",
    "from sklearn.ensemble import IsolationForest"
   ]
  },
  {
   "cell_type": "code",
   "execution_count": 2,
   "id": "a86dac79",
   "metadata": {},
   "outputs": [],
   "source": [
    "df=pd.read_csv(\"cinemaTicket_Ref.csv\")\n"
   ]
  },
  {
   "cell_type": "code",
   "execution_count": 3,
   "id": "7afa82e4",
   "metadata": {},
   "outputs": [
    {
     "data": {
      "text/html": [
       "<div>\n",
       "<style scoped>\n",
       "    .dataframe tbody tr th:only-of-type {\n",
       "        vertical-align: middle;\n",
       "    }\n",
       "\n",
       "    .dataframe tbody tr th {\n",
       "        vertical-align: top;\n",
       "    }\n",
       "\n",
       "    .dataframe thead th {\n",
       "        text-align: right;\n",
       "    }\n",
       "</style>\n",
       "<table border=\"1\" class=\"dataframe\">\n",
       "  <thead>\n",
       "    <tr style=\"text-align: right;\">\n",
       "      <th></th>\n",
       "      <th>film_code</th>\n",
       "      <th>cinema_code</th>\n",
       "      <th>total_sales</th>\n",
       "      <th>tickets_sold</th>\n",
       "      <th>tickets_out</th>\n",
       "      <th>show_time</th>\n",
       "      <th>occu_perc</th>\n",
       "      <th>ticket_price</th>\n",
       "      <th>ticket_use</th>\n",
       "      <th>capacity</th>\n",
       "      <th>date</th>\n",
       "      <th>month</th>\n",
       "      <th>quarter</th>\n",
       "      <th>day</th>\n",
       "    </tr>\n",
       "  </thead>\n",
       "  <tbody>\n",
       "    <tr>\n",
       "      <th>0</th>\n",
       "      <td>1492</td>\n",
       "      <td>304</td>\n",
       "      <td>3900000</td>\n",
       "      <td>26</td>\n",
       "      <td>0</td>\n",
       "      <td>4</td>\n",
       "      <td>4.26</td>\n",
       "      <td>150000.0</td>\n",
       "      <td>26</td>\n",
       "      <td>610.328638</td>\n",
       "      <td>2018-05-05</td>\n",
       "      <td>5</td>\n",
       "      <td>2</td>\n",
       "      <td>5</td>\n",
       "    </tr>\n",
       "    <tr>\n",
       "      <th>1</th>\n",
       "      <td>1492</td>\n",
       "      <td>352</td>\n",
       "      <td>3360000</td>\n",
       "      <td>42</td>\n",
       "      <td>0</td>\n",
       "      <td>5</td>\n",
       "      <td>8.08</td>\n",
       "      <td>80000.0</td>\n",
       "      <td>42</td>\n",
       "      <td>519.801980</td>\n",
       "      <td>2018-05-05</td>\n",
       "      <td>5</td>\n",
       "      <td>2</td>\n",
       "      <td>5</td>\n",
       "    </tr>\n",
       "    <tr>\n",
       "      <th>2</th>\n",
       "      <td>1492</td>\n",
       "      <td>489</td>\n",
       "      <td>2560000</td>\n",
       "      <td>32</td>\n",
       "      <td>0</td>\n",
       "      <td>4</td>\n",
       "      <td>20.00</td>\n",
       "      <td>80000.0</td>\n",
       "      <td>32</td>\n",
       "      <td>160.000000</td>\n",
       "      <td>2018-05-05</td>\n",
       "      <td>5</td>\n",
       "      <td>2</td>\n",
       "      <td>5</td>\n",
       "    </tr>\n",
       "    <tr>\n",
       "      <th>3</th>\n",
       "      <td>1492</td>\n",
       "      <td>429</td>\n",
       "      <td>1200000</td>\n",
       "      <td>12</td>\n",
       "      <td>0</td>\n",
       "      <td>1</td>\n",
       "      <td>11.01</td>\n",
       "      <td>100000.0</td>\n",
       "      <td>12</td>\n",
       "      <td>108.991826</td>\n",
       "      <td>2018-05-05</td>\n",
       "      <td>5</td>\n",
       "      <td>2</td>\n",
       "      <td>5</td>\n",
       "    </tr>\n",
       "    <tr>\n",
       "      <th>4</th>\n",
       "      <td>1492</td>\n",
       "      <td>524</td>\n",
       "      <td>1200000</td>\n",
       "      <td>15</td>\n",
       "      <td>0</td>\n",
       "      <td>3</td>\n",
       "      <td>16.67</td>\n",
       "      <td>80000.0</td>\n",
       "      <td>15</td>\n",
       "      <td>89.982004</td>\n",
       "      <td>2018-05-05</td>\n",
       "      <td>5</td>\n",
       "      <td>2</td>\n",
       "      <td>5</td>\n",
       "    </tr>\n",
       "  </tbody>\n",
       "</table>\n",
       "</div>"
      ],
      "text/plain": [
       "   film_code  cinema_code  total_sales  tickets_sold  tickets_out  show_time  \\\n",
       "0       1492          304      3900000            26            0          4   \n",
       "1       1492          352      3360000            42            0          5   \n",
       "2       1492          489      2560000            32            0          4   \n",
       "3       1492          429      1200000            12            0          1   \n",
       "4       1492          524      1200000            15            0          3   \n",
       "\n",
       "   occu_perc  ticket_price  ticket_use    capacity        date  month  \\\n",
       "0       4.26      150000.0          26  610.328638  2018-05-05      5   \n",
       "1       8.08       80000.0          42  519.801980  2018-05-05      5   \n",
       "2      20.00       80000.0          32  160.000000  2018-05-05      5   \n",
       "3      11.01      100000.0          12  108.991826  2018-05-05      5   \n",
       "4      16.67       80000.0          15   89.982004  2018-05-05      5   \n",
       "\n",
       "   quarter  day  \n",
       "0        2    5  \n",
       "1        2    5  \n",
       "2        2    5  \n",
       "3        2    5  \n",
       "4        2    5  "
      ]
     },
     "execution_count": 3,
     "metadata": {},
     "output_type": "execute_result"
    }
   ],
   "source": [
    "df.head()"
   ]
  },
  {
   "cell_type": "code",
   "execution_count": 9,
   "id": "7e9294fa",
   "metadata": {},
   "outputs": [
    {
     "data": {
      "text/html": [
       "<div>\n",
       "<style scoped>\n",
       "    .dataframe tbody tr th:only-of-type {\n",
       "        vertical-align: middle;\n",
       "    }\n",
       "\n",
       "    .dataframe tbody tr th {\n",
       "        vertical-align: top;\n",
       "    }\n",
       "\n",
       "    .dataframe thead th {\n",
       "        text-align: right;\n",
       "    }\n",
       "</style>\n",
       "<table border=\"1\" class=\"dataframe\">\n",
       "  <thead>\n",
       "    <tr style=\"text-align: right;\">\n",
       "      <th></th>\n",
       "      <th>film_code</th>\n",
       "      <th>cinema_code</th>\n",
       "      <th>total_sales</th>\n",
       "      <th>tickets_sold</th>\n",
       "      <th>tickets_out</th>\n",
       "      <th>show_time</th>\n",
       "      <th>occu_perc</th>\n",
       "      <th>ticket_price</th>\n",
       "      <th>ticket_use</th>\n",
       "      <th>capacity</th>\n",
       "      <th>date</th>\n",
       "      <th>month</th>\n",
       "      <th>quarter</th>\n",
       "      <th>day</th>\n",
       "    </tr>\n",
       "  </thead>\n",
       "  <tbody>\n",
       "    <tr>\n",
       "      <th>0</th>\n",
       "      <td>1492</td>\n",
       "      <td>304</td>\n",
       "      <td>3900000</td>\n",
       "      <td>26</td>\n",
       "      <td>0</td>\n",
       "      <td>4</td>\n",
       "      <td>4.26</td>\n",
       "      <td>150000.000000</td>\n",
       "      <td>26</td>\n",
       "      <td>610.328638</td>\n",
       "      <td>2018-05-05</td>\n",
       "      <td>5</td>\n",
       "      <td>2</td>\n",
       "      <td>5</td>\n",
       "    </tr>\n",
       "    <tr>\n",
       "      <th>1</th>\n",
       "      <td>1492</td>\n",
       "      <td>352</td>\n",
       "      <td>3360000</td>\n",
       "      <td>42</td>\n",
       "      <td>0</td>\n",
       "      <td>5</td>\n",
       "      <td>8.08</td>\n",
       "      <td>80000.000000</td>\n",
       "      <td>42</td>\n",
       "      <td>519.801980</td>\n",
       "      <td>2018-05-05</td>\n",
       "      <td>5</td>\n",
       "      <td>2</td>\n",
       "      <td>5</td>\n",
       "    </tr>\n",
       "    <tr>\n",
       "      <th>2</th>\n",
       "      <td>1492</td>\n",
       "      <td>489</td>\n",
       "      <td>2560000</td>\n",
       "      <td>32</td>\n",
       "      <td>0</td>\n",
       "      <td>4</td>\n",
       "      <td>20.00</td>\n",
       "      <td>80000.000000</td>\n",
       "      <td>32</td>\n",
       "      <td>160.000000</td>\n",
       "      <td>2018-05-05</td>\n",
       "      <td>5</td>\n",
       "      <td>2</td>\n",
       "      <td>5</td>\n",
       "    </tr>\n",
       "    <tr>\n",
       "      <th>3</th>\n",
       "      <td>1492</td>\n",
       "      <td>429</td>\n",
       "      <td>1200000</td>\n",
       "      <td>12</td>\n",
       "      <td>0</td>\n",
       "      <td>1</td>\n",
       "      <td>11.01</td>\n",
       "      <td>100000.000000</td>\n",
       "      <td>12</td>\n",
       "      <td>108.991826</td>\n",
       "      <td>2018-05-05</td>\n",
       "      <td>5</td>\n",
       "      <td>2</td>\n",
       "      <td>5</td>\n",
       "    </tr>\n",
       "    <tr>\n",
       "      <th>4</th>\n",
       "      <td>1492</td>\n",
       "      <td>524</td>\n",
       "      <td>1200000</td>\n",
       "      <td>15</td>\n",
       "      <td>0</td>\n",
       "      <td>3</td>\n",
       "      <td>16.67</td>\n",
       "      <td>80000.000000</td>\n",
       "      <td>15</td>\n",
       "      <td>89.982004</td>\n",
       "      <td>2018-05-05</td>\n",
       "      <td>5</td>\n",
       "      <td>2</td>\n",
       "      <td>5</td>\n",
       "    </tr>\n",
       "    <tr>\n",
       "      <th>5</th>\n",
       "      <td>1492</td>\n",
       "      <td>71</td>\n",
       "      <td>1050000</td>\n",
       "      <td>7</td>\n",
       "      <td>0</td>\n",
       "      <td>3</td>\n",
       "      <td>0.98</td>\n",
       "      <td>150000.000000</td>\n",
       "      <td>7</td>\n",
       "      <td>714.285714</td>\n",
       "      <td>2018-05-05</td>\n",
       "      <td>5</td>\n",
       "      <td>2</td>\n",
       "      <td>5</td>\n",
       "    </tr>\n",
       "    <tr>\n",
       "      <th>6</th>\n",
       "      <td>1492</td>\n",
       "      <td>163</td>\n",
       "      <td>1020000</td>\n",
       "      <td>10</td>\n",
       "      <td>0</td>\n",
       "      <td>3</td>\n",
       "      <td>7.69</td>\n",
       "      <td>102000.000000</td>\n",
       "      <td>10</td>\n",
       "      <td>130.039012</td>\n",
       "      <td>2018-05-05</td>\n",
       "      <td>5</td>\n",
       "      <td>2</td>\n",
       "      <td>5</td>\n",
       "    </tr>\n",
       "    <tr>\n",
       "      <th>7</th>\n",
       "      <td>1492</td>\n",
       "      <td>450</td>\n",
       "      <td>750000</td>\n",
       "      <td>5</td>\n",
       "      <td>0</td>\n",
       "      <td>3</td>\n",
       "      <td>1.57</td>\n",
       "      <td>150000.000000</td>\n",
       "      <td>5</td>\n",
       "      <td>318.471338</td>\n",
       "      <td>2018-05-05</td>\n",
       "      <td>5</td>\n",
       "      <td>2</td>\n",
       "      <td>5</td>\n",
       "    </tr>\n",
       "    <tr>\n",
       "      <th>8</th>\n",
       "      <td>1492</td>\n",
       "      <td>51</td>\n",
       "      <td>750000</td>\n",
       "      <td>11</td>\n",
       "      <td>0</td>\n",
       "      <td>2</td>\n",
       "      <td>0.95</td>\n",
       "      <td>68181.818182</td>\n",
       "      <td>11</td>\n",
       "      <td>1157.894737</td>\n",
       "      <td>2018-05-05</td>\n",
       "      <td>5</td>\n",
       "      <td>2</td>\n",
       "      <td>5</td>\n",
       "    </tr>\n",
       "    <tr>\n",
       "      <th>9</th>\n",
       "      <td>1492</td>\n",
       "      <td>522</td>\n",
       "      <td>600000</td>\n",
       "      <td>4</td>\n",
       "      <td>0</td>\n",
       "      <td>3</td>\n",
       "      <td>1.55</td>\n",
       "      <td>150000.000000</td>\n",
       "      <td>4</td>\n",
       "      <td>258.064516</td>\n",
       "      <td>2018-05-05</td>\n",
       "      <td>5</td>\n",
       "      <td>2</td>\n",
       "      <td>5</td>\n",
       "    </tr>\n",
       "  </tbody>\n",
       "</table>\n",
       "</div>"
      ],
      "text/plain": [
       "   film_code  cinema_code  total_sales  tickets_sold  tickets_out  show_time  \\\n",
       "0       1492          304      3900000            26            0          4   \n",
       "1       1492          352      3360000            42            0          5   \n",
       "2       1492          489      2560000            32            0          4   \n",
       "3       1492          429      1200000            12            0          1   \n",
       "4       1492          524      1200000            15            0          3   \n",
       "5       1492           71      1050000             7            0          3   \n",
       "6       1492          163      1020000            10            0          3   \n",
       "7       1492          450       750000             5            0          3   \n",
       "8       1492           51       750000            11            0          2   \n",
       "9       1492          522       600000             4            0          3   \n",
       "\n",
       "   occu_perc   ticket_price  ticket_use     capacity        date  month  \\\n",
       "0       4.26  150000.000000          26   610.328638  2018-05-05      5   \n",
       "1       8.08   80000.000000          42   519.801980  2018-05-05      5   \n",
       "2      20.00   80000.000000          32   160.000000  2018-05-05      5   \n",
       "3      11.01  100000.000000          12   108.991826  2018-05-05      5   \n",
       "4      16.67   80000.000000          15    89.982004  2018-05-05      5   \n",
       "5       0.98  150000.000000           7   714.285714  2018-05-05      5   \n",
       "6       7.69  102000.000000          10   130.039012  2018-05-05      5   \n",
       "7       1.57  150000.000000           5   318.471338  2018-05-05      5   \n",
       "8       0.95   68181.818182          11  1157.894737  2018-05-05      5   \n",
       "9       1.55  150000.000000           4   258.064516  2018-05-05      5   \n",
       "\n",
       "   quarter  day  \n",
       "0        2    5  \n",
       "1        2    5  \n",
       "2        2    5  \n",
       "3        2    5  \n",
       "4        2    5  \n",
       "5        2    5  \n",
       "6        2    5  \n",
       "7        2    5  \n",
       "8        2    5  \n",
       "9        2    5  "
      ]
     },
     "execution_count": 9,
     "metadata": {},
     "output_type": "execute_result"
    }
   ],
   "source": [
    "df.head(10)\n"
   ]
  },
  {
   "cell_type": "code",
   "execution_count": 10,
   "id": "da39ea3b",
   "metadata": {},
   "outputs": [
    {
     "data": {
      "text/html": [
       "<div>\n",
       "<style scoped>\n",
       "    .dataframe tbody tr th:only-of-type {\n",
       "        vertical-align: middle;\n",
       "    }\n",
       "\n",
       "    .dataframe tbody tr th {\n",
       "        vertical-align: top;\n",
       "    }\n",
       "\n",
       "    .dataframe thead th {\n",
       "        text-align: right;\n",
       "    }\n",
       "</style>\n",
       "<table border=\"1\" class=\"dataframe\">\n",
       "  <thead>\n",
       "    <tr style=\"text-align: right;\">\n",
       "      <th></th>\n",
       "      <th>film_code</th>\n",
       "      <th>cinema_code</th>\n",
       "      <th>total_sales</th>\n",
       "      <th>tickets_sold</th>\n",
       "      <th>tickets_out</th>\n",
       "      <th>show_time</th>\n",
       "      <th>occu_perc</th>\n",
       "      <th>ticket_price</th>\n",
       "      <th>ticket_use</th>\n",
       "      <th>capacity</th>\n",
       "      <th>date</th>\n",
       "      <th>month</th>\n",
       "      <th>quarter</th>\n",
       "      <th>day</th>\n",
       "    </tr>\n",
       "  </thead>\n",
       "  <tbody>\n",
       "    <tr>\n",
       "      <th>0</th>\n",
       "      <td>1492</td>\n",
       "      <td>304</td>\n",
       "      <td>3900000</td>\n",
       "      <td>26</td>\n",
       "      <td>0</td>\n",
       "      <td>4</td>\n",
       "      <td>4.26</td>\n",
       "      <td>150000.0</td>\n",
       "      <td>26</td>\n",
       "      <td>610.328638</td>\n",
       "      <td>2018-05-05</td>\n",
       "      <td>5</td>\n",
       "      <td>2</td>\n",
       "      <td>5</td>\n",
       "    </tr>\n",
       "    <tr>\n",
       "      <th>1</th>\n",
       "      <td>1492</td>\n",
       "      <td>352</td>\n",
       "      <td>3360000</td>\n",
       "      <td>42</td>\n",
       "      <td>0</td>\n",
       "      <td>5</td>\n",
       "      <td>8.08</td>\n",
       "      <td>80000.0</td>\n",
       "      <td>42</td>\n",
       "      <td>519.801980</td>\n",
       "      <td>2018-05-05</td>\n",
       "      <td>5</td>\n",
       "      <td>2</td>\n",
       "      <td>5</td>\n",
       "    </tr>\n",
       "    <tr>\n",
       "      <th>2</th>\n",
       "      <td>1492</td>\n",
       "      <td>489</td>\n",
       "      <td>2560000</td>\n",
       "      <td>32</td>\n",
       "      <td>0</td>\n",
       "      <td>4</td>\n",
       "      <td>20.00</td>\n",
       "      <td>80000.0</td>\n",
       "      <td>32</td>\n",
       "      <td>160.000000</td>\n",
       "      <td>2018-05-05</td>\n",
       "      <td>5</td>\n",
       "      <td>2</td>\n",
       "      <td>5</td>\n",
       "    </tr>\n",
       "    <tr>\n",
       "      <th>3</th>\n",
       "      <td>1492</td>\n",
       "      <td>429</td>\n",
       "      <td>1200000</td>\n",
       "      <td>12</td>\n",
       "      <td>0</td>\n",
       "      <td>1</td>\n",
       "      <td>11.01</td>\n",
       "      <td>100000.0</td>\n",
       "      <td>12</td>\n",
       "      <td>108.991826</td>\n",
       "      <td>2018-05-05</td>\n",
       "      <td>5</td>\n",
       "      <td>2</td>\n",
       "      <td>5</td>\n",
       "    </tr>\n",
       "    <tr>\n",
       "      <th>4</th>\n",
       "      <td>1492</td>\n",
       "      <td>524</td>\n",
       "      <td>1200000</td>\n",
       "      <td>15</td>\n",
       "      <td>0</td>\n",
       "      <td>3</td>\n",
       "      <td>16.67</td>\n",
       "      <td>80000.0</td>\n",
       "      <td>15</td>\n",
       "      <td>89.982004</td>\n",
       "      <td>2018-05-05</td>\n",
       "      <td>5</td>\n",
       "      <td>2</td>\n",
       "      <td>5</td>\n",
       "    </tr>\n",
       "  </tbody>\n",
       "</table>\n",
       "</div>"
      ],
      "text/plain": [
       "   film_code  cinema_code  total_sales  tickets_sold  tickets_out  show_time  \\\n",
       "0       1492          304      3900000            26            0          4   \n",
       "1       1492          352      3360000            42            0          5   \n",
       "2       1492          489      2560000            32            0          4   \n",
       "3       1492          429      1200000            12            0          1   \n",
       "4       1492          524      1200000            15            0          3   \n",
       "\n",
       "   occu_perc  ticket_price  ticket_use    capacity        date  month  \\\n",
       "0       4.26      150000.0          26  610.328638  2018-05-05      5   \n",
       "1       8.08       80000.0          42  519.801980  2018-05-05      5   \n",
       "2      20.00       80000.0          32  160.000000  2018-05-05      5   \n",
       "3      11.01      100000.0          12  108.991826  2018-05-05      5   \n",
       "4      16.67       80000.0          15   89.982004  2018-05-05      5   \n",
       "\n",
       "   quarter  day  \n",
       "0        2    5  \n",
       "1        2    5  \n",
       "2        2    5  \n",
       "3        2    5  \n",
       "4        2    5  "
      ]
     },
     "execution_count": 10,
     "metadata": {},
     "output_type": "execute_result"
    }
   ],
   "source": [
    "df.iloc[0:5,0:14]"
   ]
  },
  {
   "cell_type": "code",
   "execution_count": 11,
   "id": "743762a5",
   "metadata": {},
   "outputs": [
    {
     "data": {
      "text/plain": [
       "(142524, 14)"
      ]
     },
     "execution_count": 11,
     "metadata": {},
     "output_type": "execute_result"
    }
   ],
   "source": [
    "df.shape\n"
   ]
  },
  {
   "cell_type": "code",
   "execution_count": 12,
   "id": "45a0bb35",
   "metadata": {},
   "outputs": [
    {
     "data": {
      "text/plain": [
       "<bound method DataFrame.info of         film_code  cinema_code  total_sales  tickets_sold  tickets_out  \\\n",
       "0            1492          304      3900000            26            0   \n",
       "1            1492          352      3360000            42            0   \n",
       "2            1492          489      2560000            32            0   \n",
       "3            1492          429      1200000            12            0   \n",
       "4            1492          524      1200000            15            0   \n",
       "...           ...          ...          ...           ...          ...   \n",
       "142519       1569          495      1320000            22            0   \n",
       "142520       1569          474      1200000            15            0   \n",
       "142521       1569          524      1060000             8            0   \n",
       "142522       1569          529       600000             5            0   \n",
       "142523       1569          486       250000             5            0   \n",
       "\n",
       "        show_time  occu_perc  ticket_price  ticket_use    capacity  \\\n",
       "0               4       4.26      150000.0          26  610.328638   \n",
       "1               5       8.08       80000.0          42  519.801980   \n",
       "2               4      20.00       80000.0          32  160.000000   \n",
       "3               1      11.01      100000.0          12  108.991826   \n",
       "4               3      16.67       80000.0          15   89.982004   \n",
       "...           ...        ...           ...         ...         ...   \n",
       "142519          2       3.86       60000.0          22  569.948187   \n",
       "142520          1      65.22       80000.0          15   22.999080   \n",
       "142521          3       9.20      132500.0           8   86.956522   \n",
       "142522          2       5.00      120000.0           5  100.000000   \n",
       "142523          1       1.79       50000.0           5  279.329609   \n",
       "\n",
       "              date  month  quarter  day  \n",
       "0       2018-05-05      5        2    5  \n",
       "1       2018-05-05      5        2    5  \n",
       "2       2018-05-05      5        2    5  \n",
       "3       2018-05-05      5        2    5  \n",
       "4       2018-05-05      5        2    5  \n",
       "...            ...    ...      ...  ...  \n",
       "142519  2018-11-04     11        4    4  \n",
       "142520  2018-11-04     11        4    4  \n",
       "142521  2018-11-04     11        4    4  \n",
       "142522  2018-11-04     11        4    4  \n",
       "142523  2018-11-04     11        4    4  \n",
       "\n",
       "[142524 rows x 14 columns]>"
      ]
     },
     "execution_count": 12,
     "metadata": {},
     "output_type": "execute_result"
    }
   ],
   "source": [
    "df.info"
   ]
  },
  {
   "cell_type": "code",
   "execution_count": 13,
   "id": "5b3e46fb",
   "metadata": {},
   "outputs": [
    {
     "data": {
      "text/plain": [
       "film_code         int64\n",
       "cinema_code       int64\n",
       "total_sales       int64\n",
       "tickets_sold      int64\n",
       "tickets_out       int64\n",
       "show_time         int64\n",
       "occu_perc       float64\n",
       "ticket_price    float64\n",
       "ticket_use        int64\n",
       "capacity        float64\n",
       "date             object\n",
       "month             int64\n",
       "quarter           int64\n",
       "day               int64\n",
       "dtype: object"
      ]
     },
     "execution_count": 13,
     "metadata": {},
     "output_type": "execute_result"
    }
   ],
   "source": [
    "df.dtypes"
   ]
  },
  {
   "cell_type": "code",
   "execution_count": 14,
   "id": "ad8c3292",
   "metadata": {},
   "outputs": [],
   "source": [
    "df['date']=pd.to_datetime(df['date'])"
   ]
  },
  {
   "cell_type": "code",
   "execution_count": 15,
   "id": "835c1e18",
   "metadata": {},
   "outputs": [
    {
     "data": {
      "text/plain": [
       "film_code                int64\n",
       "cinema_code              int64\n",
       "total_sales              int64\n",
       "tickets_sold             int64\n",
       "tickets_out              int64\n",
       "show_time                int64\n",
       "occu_perc              float64\n",
       "ticket_price           float64\n",
       "ticket_use               int64\n",
       "capacity               float64\n",
       "date            datetime64[ns]\n",
       "month                    int64\n",
       "quarter                  int64\n",
       "day                      int64\n",
       "dtype: object"
      ]
     },
     "execution_count": 15,
     "metadata": {},
     "output_type": "execute_result"
    }
   ],
   "source": [
    "df.dtypes"
   ]
  },
  {
   "cell_type": "code",
   "execution_count": 16,
   "id": "94d241a2",
   "metadata": {},
   "outputs": [
    {
     "name": "stdout",
     "output_type": "stream",
     "text": [
      "film_code\n",
      "cinema_code\n",
      "total_sales\n",
      "tickets_sold\n",
      "tickets_out\n",
      "show_time\n",
      "occu_perc\n",
      "ticket_price\n",
      "ticket_use\n",
      "capacity\n",
      "date\n",
      "month\n",
      "quarter\n",
      "day\n"
     ]
    }
   ],
   "source": [
    "for i in df.columns:\n",
    "    print(i)"
   ]
  },
  {
   "cell_type": "code",
   "execution_count": 17,
   "id": "2c7f241e",
   "metadata": {},
   "outputs": [
    {
     "data": {
      "text/html": [
       "<div>\n",
       "<style scoped>\n",
       "    .dataframe tbody tr th:only-of-type {\n",
       "        vertical-align: middle;\n",
       "    }\n",
       "\n",
       "    .dataframe tbody tr th {\n",
       "        vertical-align: top;\n",
       "    }\n",
       "\n",
       "    .dataframe thead th {\n",
       "        text-align: right;\n",
       "    }\n",
       "</style>\n",
       "<table border=\"1\" class=\"dataframe\">\n",
       "  <thead>\n",
       "    <tr style=\"text-align: right;\">\n",
       "      <th></th>\n",
       "      <th>film_code</th>\n",
       "      <th>cinema_code</th>\n",
       "      <th>total_sales</th>\n",
       "      <th>tickets_sold</th>\n",
       "      <th>tickets_out</th>\n",
       "      <th>show_time</th>\n",
       "      <th>occu_perc</th>\n",
       "      <th>ticket_price</th>\n",
       "      <th>ticket_use</th>\n",
       "      <th>capacity</th>\n",
       "      <th>month</th>\n",
       "      <th>quarter</th>\n",
       "      <th>day</th>\n",
       "    </tr>\n",
       "  </thead>\n",
       "  <tbody>\n",
       "    <tr>\n",
       "      <th>count</th>\n",
       "      <td>142524.000000</td>\n",
       "      <td>142524.000000</td>\n",
       "      <td>1.425240e+05</td>\n",
       "      <td>142524.000000</td>\n",
       "      <td>142524.000000</td>\n",
       "      <td>142524.000000</td>\n",
       "      <td>142399.000000</td>\n",
       "      <td>142524.000000</td>\n",
       "      <td>142524.000000</td>\n",
       "      <td>142399.000000</td>\n",
       "      <td>142524.000000</td>\n",
       "      <td>142524.000000</td>\n",
       "      <td>142524.000000</td>\n",
       "    </tr>\n",
       "    <tr>\n",
       "      <th>mean</th>\n",
       "      <td>1518.985111</td>\n",
       "      <td>320.378427</td>\n",
       "      <td>1.234728e+07</td>\n",
       "      <td>140.137570</td>\n",
       "      <td>0.237413</td>\n",
       "      <td>3.932103</td>\n",
       "      <td>19.965986</td>\n",
       "      <td>81234.599886</td>\n",
       "      <td>139.900157</td>\n",
       "      <td>854.723605</td>\n",
       "      <td>6.776852</td>\n",
       "      <td>2.634721</td>\n",
       "      <td>16.112585</td>\n",
       "    </tr>\n",
       "    <tr>\n",
       "      <th>std</th>\n",
       "      <td>36.184450</td>\n",
       "      <td>159.701229</td>\n",
       "      <td>3.065486e+07</td>\n",
       "      <td>279.758733</td>\n",
       "      <td>2.923206</td>\n",
       "      <td>3.056276</td>\n",
       "      <td>22.653445</td>\n",
       "      <td>33236.599278</td>\n",
       "      <td>279.564935</td>\n",
       "      <td>953.118103</td>\n",
       "      <td>2.195843</td>\n",
       "      <td>0.809692</td>\n",
       "      <td>8.949471</td>\n",
       "    </tr>\n",
       "    <tr>\n",
       "      <th>min</th>\n",
       "      <td>1471.000000</td>\n",
       "      <td>32.000000</td>\n",
       "      <td>2.000000e+04</td>\n",
       "      <td>1.000000</td>\n",
       "      <td>0.000000</td>\n",
       "      <td>1.000000</td>\n",
       "      <td>0.000000</td>\n",
       "      <td>483.870968</td>\n",
       "      <td>-219.000000</td>\n",
       "      <td>-2.000000</td>\n",
       "      <td>2.000000</td>\n",
       "      <td>1.000000</td>\n",
       "      <td>1.000000</td>\n",
       "    </tr>\n",
       "    <tr>\n",
       "      <th>25%</th>\n",
       "      <td>1485.000000</td>\n",
       "      <td>181.000000</td>\n",
       "      <td>1.260000e+06</td>\n",
       "      <td>18.000000</td>\n",
       "      <td>0.000000</td>\n",
       "      <td>2.000000</td>\n",
       "      <td>3.750000</td>\n",
       "      <td>60000.000000</td>\n",
       "      <td>18.000000</td>\n",
       "      <td>276.994486</td>\n",
       "      <td>5.000000</td>\n",
       "      <td>2.000000</td>\n",
       "      <td>8.000000</td>\n",
       "    </tr>\n",
       "    <tr>\n",
       "      <th>50%</th>\n",
       "      <td>1498.000000</td>\n",
       "      <td>324.000000</td>\n",
       "      <td>3.720000e+06</td>\n",
       "      <td>50.000000</td>\n",
       "      <td>0.000000</td>\n",
       "      <td>3.000000</td>\n",
       "      <td>10.350000</td>\n",
       "      <td>79454.235185</td>\n",
       "      <td>50.000000</td>\n",
       "      <td>525.714286</td>\n",
       "      <td>7.000000</td>\n",
       "      <td>3.000000</td>\n",
       "      <td>16.000000</td>\n",
       "    </tr>\n",
       "    <tr>\n",
       "      <th>75%</th>\n",
       "      <td>1556.000000</td>\n",
       "      <td>474.000000</td>\n",
       "      <td>1.110000e+07</td>\n",
       "      <td>143.000000</td>\n",
       "      <td>0.000000</td>\n",
       "      <td>5.000000</td>\n",
       "      <td>28.210000</td>\n",
       "      <td>100000.000000</td>\n",
       "      <td>143.000000</td>\n",
       "      <td>1038.961039</td>\n",
       "      <td>9.000000</td>\n",
       "      <td>3.000000</td>\n",
       "      <td>24.000000</td>\n",
       "    </tr>\n",
       "    <tr>\n",
       "      <th>max</th>\n",
       "      <td>1589.000000</td>\n",
       "      <td>637.000000</td>\n",
       "      <td>1.262820e+09</td>\n",
       "      <td>8499.000000</td>\n",
       "      <td>311.000000</td>\n",
       "      <td>60.000000</td>\n",
       "      <td>147.500000</td>\n",
       "      <td>700000.000000</td>\n",
       "      <td>8499.000000</td>\n",
       "      <td>9692.097160</td>\n",
       "      <td>11.000000</td>\n",
       "      <td>4.000000</td>\n",
       "      <td>31.000000</td>\n",
       "    </tr>\n",
       "  </tbody>\n",
       "</table>\n",
       "</div>"
      ],
      "text/plain": [
       "           film_code    cinema_code   total_sales   tickets_sold  \\\n",
       "count  142524.000000  142524.000000  1.425240e+05  142524.000000   \n",
       "mean     1518.985111     320.378427  1.234728e+07     140.137570   \n",
       "std        36.184450     159.701229  3.065486e+07     279.758733   \n",
       "min      1471.000000      32.000000  2.000000e+04       1.000000   \n",
       "25%      1485.000000     181.000000  1.260000e+06      18.000000   \n",
       "50%      1498.000000     324.000000  3.720000e+06      50.000000   \n",
       "75%      1556.000000     474.000000  1.110000e+07     143.000000   \n",
       "max      1589.000000     637.000000  1.262820e+09    8499.000000   \n",
       "\n",
       "         tickets_out      show_time      occu_perc   ticket_price  \\\n",
       "count  142524.000000  142524.000000  142399.000000  142524.000000   \n",
       "mean        0.237413       3.932103      19.965986   81234.599886   \n",
       "std         2.923206       3.056276      22.653445   33236.599278   \n",
       "min         0.000000       1.000000       0.000000     483.870968   \n",
       "25%         0.000000       2.000000       3.750000   60000.000000   \n",
       "50%         0.000000       3.000000      10.350000   79454.235185   \n",
       "75%         0.000000       5.000000      28.210000  100000.000000   \n",
       "max       311.000000      60.000000     147.500000  700000.000000   \n",
       "\n",
       "          ticket_use       capacity          month        quarter  \\\n",
       "count  142524.000000  142399.000000  142524.000000  142524.000000   \n",
       "mean      139.900157     854.723605       6.776852       2.634721   \n",
       "std       279.564935     953.118103       2.195843       0.809692   \n",
       "min      -219.000000      -2.000000       2.000000       1.000000   \n",
       "25%        18.000000     276.994486       5.000000       2.000000   \n",
       "50%        50.000000     525.714286       7.000000       3.000000   \n",
       "75%       143.000000    1038.961039       9.000000       3.000000   \n",
       "max      8499.000000    9692.097160      11.000000       4.000000   \n",
       "\n",
       "                 day  \n",
       "count  142524.000000  \n",
       "mean       16.112585  \n",
       "std         8.949471  \n",
       "min         1.000000  \n",
       "25%         8.000000  \n",
       "50%        16.000000  \n",
       "75%        24.000000  \n",
       "max        31.000000  "
      ]
     },
     "execution_count": 17,
     "metadata": {},
     "output_type": "execute_result"
    }
   ],
   "source": [
    "df.describe()"
   ]
  },
  {
   "cell_type": "code",
   "execution_count": 18,
   "id": "a03433ec",
   "metadata": {},
   "outputs": [],
   "source": [
    "df=df.drop(columns=['film_code']).drop(columns=['cinema_code'])"
   ]
  },
  {
   "cell_type": "code",
   "execution_count": 19,
   "id": "8af8a9ce",
   "metadata": {},
   "outputs": [
    {
     "data": {
      "text/plain": [
       "array([ 3900000,  3360000,  2560000, ..., 76275000, 37775000, 42170000],\n",
       "      dtype=int64)"
      ]
     },
     "execution_count": 19,
     "metadata": {},
     "output_type": "execute_result"
    }
   ],
   "source": [
    "df['total_sales'].unique()\n"
   ]
  },
  {
   "cell_type": "code",
   "execution_count": 20,
   "id": "0012c69e",
   "metadata": {},
   "outputs": [
    {
     "data": {
      "text/plain": [
       "array([  26,   42,   32, ..., 1525, 1817, 2024], dtype=int64)"
      ]
     },
     "execution_count": 20,
     "metadata": {},
     "output_type": "execute_result"
    }
   ],
   "source": [
    "df['tickets_sold'].unique()"
   ]
  },
  {
   "cell_type": "code",
   "execution_count": 21,
   "id": "d3b844c7",
   "metadata": {},
   "outputs": [
    {
     "data": {
      "text/plain": [
       "array([  0,   1,   3,   2,   4,   5,  25,   8,  10,   6,   7,  21,   9,\n",
       "        13,  14,  11,  12,  16,  41,  50,  20,  75,  15,  23,  18,  89,\n",
       "       121, 126,  55,  68,  40,  98, 104,  43,  29,  82,  26, 100,  17,\n",
       "       176,  31,  33,  35,  30,  27,  45,  46,  62,  60,  39,  19,  32,\n",
       "        77,  28, 196,  22,  53, 119,  48,  37,  93,  59,  65,  24, 208,\n",
       "        36, 242, 265, 183,  34,  54,  79,  99,  85,  70, 101, 311,  91,\n",
       "       108, 158, 111, 199,  38,  51, 106, 105,  86,  56,  87,  42,  64,\n",
       "        49,  97,  44,  84,  52], dtype=int64)"
      ]
     },
     "execution_count": 21,
     "metadata": {},
     "output_type": "execute_result"
    }
   ],
   "source": [
    "df['tickets_out'].unique()"
   ]
  },
  {
   "cell_type": "code",
   "execution_count": 22,
   "id": "139dea7c",
   "metadata": {},
   "outputs": [
    {
     "data": {
      "text/plain": [
       "array([ 4,  5,  1,  3,  2,  6,  7,  8, 14,  9, 12, 10, 15, 16, 13, 11, 17,\n",
       "       19, 18, 22, 26, 24, 20, 21, 27, 38, 28, 40, 29, 23, 25, 30, 31, 32,\n",
       "       33, 35, 36, 44, 52, 46, 43, 39, 42, 48, 50, 47, 60, 34, 45, 37, 41],\n",
       "      dtype=int64)"
      ]
     },
     "execution_count": 22,
     "metadata": {},
     "output_type": "execute_result"
    }
   ],
   "source": [
    "df['show_time'].unique()"
   ]
  },
  {
   "cell_type": "code",
   "execution_count": 23,
   "id": "b2d71e2e",
   "metadata": {},
   "outputs": [
    {
     "data": {
      "text/plain": [
       "array([ 4.26,  8.08, 20.  , ..., 94.49, 52.54, 53.07])"
      ]
     },
     "execution_count": 23,
     "metadata": {},
     "output_type": "execute_result"
    }
   ],
   "source": [
    "df['occu_perc'].unique()"
   ]
  },
  {
   "cell_type": "code",
   "execution_count": 24,
   "id": "fd7f7340",
   "metadata": {},
   "outputs": [
    {
     "data": {
      "text/plain": [
       "array([150000.       ,  80000.       , 100000.       , ...,\n",
       "        83703.7037037, 149539.0070922, 126400.       ])"
      ]
     },
     "execution_count": 24,
     "metadata": {},
     "output_type": "execute_result"
    }
   ],
   "source": [
    "df['ticket_price'].unique()"
   ]
  },
  {
   "cell_type": "code",
   "execution_count": 25,
   "id": "3e952449",
   "metadata": {},
   "outputs": [
    {
     "data": {
      "text/html": [
       "<div>\n",
       "<style scoped>\n",
       "    .dataframe tbody tr th:only-of-type {\n",
       "        vertical-align: middle;\n",
       "    }\n",
       "\n",
       "    .dataframe tbody tr th {\n",
       "        vertical-align: top;\n",
       "    }\n",
       "\n",
       "    .dataframe thead th {\n",
       "        text-align: right;\n",
       "    }\n",
       "</style>\n",
       "<table border=\"1\" class=\"dataframe\">\n",
       "  <thead>\n",
       "    <tr style=\"text-align: right;\">\n",
       "      <th></th>\n",
       "      <th>total_sales</th>\n",
       "      <th>tickets_sold</th>\n",
       "      <th>tickets_out</th>\n",
       "      <th>show_time</th>\n",
       "      <th>occu_perc</th>\n",
       "      <th>ticket_price</th>\n",
       "      <th>ticket_use</th>\n",
       "      <th>capacity</th>\n",
       "      <th>date</th>\n",
       "      <th>month</th>\n",
       "      <th>quarter</th>\n",
       "      <th>day</th>\n",
       "    </tr>\n",
       "  </thead>\n",
       "  <tbody>\n",
       "    <tr>\n",
       "      <th>0</th>\n",
       "      <td>3900000</td>\n",
       "      <td>26</td>\n",
       "      <td>0</td>\n",
       "      <td>4</td>\n",
       "      <td>4.26</td>\n",
       "      <td>150000.0</td>\n",
       "      <td>26</td>\n",
       "      <td>610.328638</td>\n",
       "      <td>2018-05-05</td>\n",
       "      <td>5</td>\n",
       "      <td>2</td>\n",
       "      <td>5</td>\n",
       "    </tr>\n",
       "    <tr>\n",
       "      <th>1</th>\n",
       "      <td>3360000</td>\n",
       "      <td>42</td>\n",
       "      <td>0</td>\n",
       "      <td>5</td>\n",
       "      <td>8.08</td>\n",
       "      <td>80000.0</td>\n",
       "      <td>42</td>\n",
       "      <td>519.801980</td>\n",
       "      <td>2018-05-05</td>\n",
       "      <td>5</td>\n",
       "      <td>2</td>\n",
       "      <td>5</td>\n",
       "    </tr>\n",
       "    <tr>\n",
       "      <th>2</th>\n",
       "      <td>2560000</td>\n",
       "      <td>32</td>\n",
       "      <td>0</td>\n",
       "      <td>4</td>\n",
       "      <td>20.00</td>\n",
       "      <td>80000.0</td>\n",
       "      <td>32</td>\n",
       "      <td>160.000000</td>\n",
       "      <td>2018-05-05</td>\n",
       "      <td>5</td>\n",
       "      <td>2</td>\n",
       "      <td>5</td>\n",
       "    </tr>\n",
       "    <tr>\n",
       "      <th>3</th>\n",
       "      <td>1200000</td>\n",
       "      <td>12</td>\n",
       "      <td>0</td>\n",
       "      <td>1</td>\n",
       "      <td>11.01</td>\n",
       "      <td>100000.0</td>\n",
       "      <td>12</td>\n",
       "      <td>108.991826</td>\n",
       "      <td>2018-05-05</td>\n",
       "      <td>5</td>\n",
       "      <td>2</td>\n",
       "      <td>5</td>\n",
       "    </tr>\n",
       "    <tr>\n",
       "      <th>4</th>\n",
       "      <td>1200000</td>\n",
       "      <td>15</td>\n",
       "      <td>0</td>\n",
       "      <td>3</td>\n",
       "      <td>16.67</td>\n",
       "      <td>80000.0</td>\n",
       "      <td>15</td>\n",
       "      <td>89.982004</td>\n",
       "      <td>2018-05-05</td>\n",
       "      <td>5</td>\n",
       "      <td>2</td>\n",
       "      <td>5</td>\n",
       "    </tr>\n",
       "    <tr>\n",
       "      <th>...</th>\n",
       "      <td>...</td>\n",
       "      <td>...</td>\n",
       "      <td>...</td>\n",
       "      <td>...</td>\n",
       "      <td>...</td>\n",
       "      <td>...</td>\n",
       "      <td>...</td>\n",
       "      <td>...</td>\n",
       "      <td>...</td>\n",
       "      <td>...</td>\n",
       "      <td>...</td>\n",
       "      <td>...</td>\n",
       "    </tr>\n",
       "    <tr>\n",
       "      <th>142519</th>\n",
       "      <td>1320000</td>\n",
       "      <td>22</td>\n",
       "      <td>0</td>\n",
       "      <td>2</td>\n",
       "      <td>3.86</td>\n",
       "      <td>60000.0</td>\n",
       "      <td>22</td>\n",
       "      <td>569.948187</td>\n",
       "      <td>2018-11-04</td>\n",
       "      <td>11</td>\n",
       "      <td>4</td>\n",
       "      <td>4</td>\n",
       "    </tr>\n",
       "    <tr>\n",
       "      <th>142520</th>\n",
       "      <td>1200000</td>\n",
       "      <td>15</td>\n",
       "      <td>0</td>\n",
       "      <td>1</td>\n",
       "      <td>65.22</td>\n",
       "      <td>80000.0</td>\n",
       "      <td>15</td>\n",
       "      <td>22.999080</td>\n",
       "      <td>2018-11-04</td>\n",
       "      <td>11</td>\n",
       "      <td>4</td>\n",
       "      <td>4</td>\n",
       "    </tr>\n",
       "    <tr>\n",
       "      <th>142521</th>\n",
       "      <td>1060000</td>\n",
       "      <td>8</td>\n",
       "      <td>0</td>\n",
       "      <td>3</td>\n",
       "      <td>9.20</td>\n",
       "      <td>132500.0</td>\n",
       "      <td>8</td>\n",
       "      <td>86.956522</td>\n",
       "      <td>2018-11-04</td>\n",
       "      <td>11</td>\n",
       "      <td>4</td>\n",
       "      <td>4</td>\n",
       "    </tr>\n",
       "    <tr>\n",
       "      <th>142522</th>\n",
       "      <td>600000</td>\n",
       "      <td>5</td>\n",
       "      <td>0</td>\n",
       "      <td>2</td>\n",
       "      <td>5.00</td>\n",
       "      <td>120000.0</td>\n",
       "      <td>5</td>\n",
       "      <td>100.000000</td>\n",
       "      <td>2018-11-04</td>\n",
       "      <td>11</td>\n",
       "      <td>4</td>\n",
       "      <td>4</td>\n",
       "    </tr>\n",
       "    <tr>\n",
       "      <th>142523</th>\n",
       "      <td>250000</td>\n",
       "      <td>5</td>\n",
       "      <td>0</td>\n",
       "      <td>1</td>\n",
       "      <td>1.79</td>\n",
       "      <td>50000.0</td>\n",
       "      <td>5</td>\n",
       "      <td>279.329609</td>\n",
       "      <td>2018-11-04</td>\n",
       "      <td>11</td>\n",
       "      <td>4</td>\n",
       "      <td>4</td>\n",
       "    </tr>\n",
       "  </tbody>\n",
       "</table>\n",
       "<p>142524 rows × 12 columns</p>\n",
       "</div>"
      ],
      "text/plain": [
       "        total_sales  tickets_sold  tickets_out  show_time  occu_perc  \\\n",
       "0           3900000            26            0          4       4.26   \n",
       "1           3360000            42            0          5       8.08   \n",
       "2           2560000            32            0          4      20.00   \n",
       "3           1200000            12            0          1      11.01   \n",
       "4           1200000            15            0          3      16.67   \n",
       "...             ...           ...          ...        ...        ...   \n",
       "142519      1320000            22            0          2       3.86   \n",
       "142520      1200000            15            0          1      65.22   \n",
       "142521      1060000             8            0          3       9.20   \n",
       "142522       600000             5            0          2       5.00   \n",
       "142523       250000             5            0          1       1.79   \n",
       "\n",
       "        ticket_price  ticket_use    capacity       date  month  quarter  day  \n",
       "0           150000.0          26  610.328638 2018-05-05      5        2    5  \n",
       "1            80000.0          42  519.801980 2018-05-05      5        2    5  \n",
       "2            80000.0          32  160.000000 2018-05-05      5        2    5  \n",
       "3           100000.0          12  108.991826 2018-05-05      5        2    5  \n",
       "4            80000.0          15   89.982004 2018-05-05      5        2    5  \n",
       "...              ...         ...         ...        ...    ...      ...  ...  \n",
       "142519       60000.0          22  569.948187 2018-11-04     11        4    4  \n",
       "142520       80000.0          15   22.999080 2018-11-04     11        4    4  \n",
       "142521      132500.0           8   86.956522 2018-11-04     11        4    4  \n",
       "142522      120000.0           5  100.000000 2018-11-04     11        4    4  \n",
       "142523       50000.0           5  279.329609 2018-11-04     11        4    4  \n",
       "\n",
       "[142524 rows x 12 columns]"
      ]
     },
     "execution_count": 25,
     "metadata": {},
     "output_type": "execute_result"
    }
   ],
   "source": [
    "df"
   ]
  },
  {
   "cell_type": "code",
   "execution_count": 26,
   "id": "c4fc58af",
   "metadata": {},
   "outputs": [
    {
     "data": {
      "text/plain": [
       "20000         1\n",
       "24000         1\n",
       "25000         2\n",
       "28000         1\n",
       "30000         5\n",
       "             ..\n",
       "1003694994    1\n",
       "1042239993    1\n",
       "1058979995    1\n",
       "1166354984    1\n",
       "1262819994    1\n",
       "Name: total_sales, Length: 9464, dtype: int64"
      ]
     },
     "execution_count": 26,
     "metadata": {},
     "output_type": "execute_result"
    }
   ],
   "source": [
    "df.total_sales.value_counts().sort_index()"
   ]
  },
  {
   "cell_type": "code",
   "execution_count": 27,
   "id": "2e4d5190",
   "metadata": {},
   "outputs": [
    {
     "data": {
      "text/plain": [
       "0      136396\n",
       "1        1496\n",
       "2        1614\n",
       "3         762\n",
       "4         604\n",
       "        ...  \n",
       "199         1\n",
       "208         1\n",
       "242         1\n",
       "265         1\n",
       "311         1\n",
       "Name: tickets_out, Length: 96, dtype: int64"
      ]
     },
     "execution_count": 27,
     "metadata": {},
     "output_type": "execute_result"
    }
   ],
   "source": [
    "df.tickets_out.value_counts().sort_index()"
   ]
  },
  {
   "cell_type": "code",
   "execution_count": 28,
   "id": "e955b821",
   "metadata": {},
   "outputs": [
    {
     "name": "stderr",
     "output_type": "stream",
     "text": [
      "C:\\Users\\KIIT\\AppData\\Local\\Temp\\ipykernel_18164\\815025580.py:1: FutureWarning: DataFrame.mean and DataFrame.median with numeric_only=None will include datetime64 and datetime64tz columns in a future version.\n",
      "  df.apply(\"mean\")\n"
     ]
    },
    {
     "data": {
      "text/plain": [
       "total_sales     1.234728e+07\n",
       "tickets_sold    1.401376e+02\n",
       "tickets_out     2.374126e-01\n",
       "show_time       3.932103e+00\n",
       "occu_perc       1.996599e+01\n",
       "ticket_price    8.123460e+04\n",
       "ticket_use      1.399002e+02\n",
       "capacity        8.547236e+02\n",
       "month           6.776852e+00\n",
       "quarter         2.634721e+00\n",
       "day             1.611258e+01\n",
       "dtype: float64"
      ]
     },
     "execution_count": 28,
     "metadata": {},
     "output_type": "execute_result"
    }
   ],
   "source": [
    "df.apply(\"mean\")"
   ]
  },
  {
   "cell_type": "code",
   "execution_count": 29,
   "id": "760dbaab",
   "metadata": {},
   "outputs": [
    {
     "name": "stderr",
     "output_type": "stream",
     "text": [
      "C:\\Users\\KIIT\\AppData\\Local\\Temp\\ipykernel_18164\\1072140413.py:1: FutureWarning: The default value of numeric_only in DataFrame.corr is deprecated. In a future version, it will default to False. Select only valid columns or specify the value of numeric_only to silence this warning.\n",
      "  sns.heatmap(df.corr())\n"
     ]
    },
    {
     "data": {
      "text/plain": [
       "<Axes: >"
      ]
     },
     "execution_count": 29,
     "metadata": {},
     "output_type": "execute_result"
    },
    {
     "data": {
      "image/png": "[encoded data removed]",
      "text/plain": [
       "<Figure size 640x480 with 2 Axes>"
      ]
     },
     "metadata": {},
     "output_type": "display_data"
    }
   ],
   "source": [
    "sns.heatmap(df.corr())\n"
   ]
  },
  {
   "cell_type": "code",
   "execution_count": 30,
   "id": "ea4fbe65",
   "metadata": {},
   "outputs": [
    {
     "name": "stderr",
     "output_type": "stream",
     "text": [
      "C:\\Users\\KIIT\\AppData\\Local\\Temp\\ipykernel_18164\\387229829.py:1: FutureWarning: The default value of numeric_only in DataFrame.corr is deprecated. In a future version, it will default to False. Select only valid columns or specify the value of numeric_only to silence this warning.\n",
      "  correlations=df.corr()[\"ticket_price\"]\n"
     ]
    },
    {
     "data": {
      "text/plain": [
       "total_sales     0.272450\n",
       "tickets_sold    0.103596\n",
       "tickets_out     0.011916\n",
       "show_time       0.176274\n",
       "occu_perc       0.084666\n",
       "ticket_price    1.000000\n",
       "ticket_use      0.103544\n",
       "capacity        0.004287\n",
       "month           0.048007\n",
       "quarter         0.042031\n",
       "day             0.001113\n",
       "Name: ticket_price, dtype: float64"
      ]
     },
     "execution_count": 30,
     "metadata": {},
     "output_type": "execute_result"
    }
   ],
   "source": [
    "correlations=df.corr()[\"ticket_price\"]\n",
    "correlations"
   ]
  },
  {
   "cell_type": "code",
   "execution_count": 31,
   "id": "cf9531b6",
   "metadata": {
    "scrolled": true
   },
   "outputs": [
    {
     "data": {
      "text/plain": [
       "ticket_price    1.000000\n",
       "total_sales     0.272450\n",
       "show_time       0.176274\n",
       "tickets_sold    0.103596\n",
       "ticket_use      0.103544\n",
       "occu_perc       0.084666\n",
       "month           0.048007\n",
       "quarter         0.042031\n",
       "tickets_out     0.011916\n",
       "capacity        0.004287\n",
       "day             0.001113\n",
       "Name: ticket_price, dtype: float64"
      ]
     },
     "execution_count": 31,
     "metadata": {},
     "output_type": "execute_result"
    }
   ],
   "source": [
    "correlations.sort_values(ascending=False)"
   ]
  },
  {
   "cell_type": "code",
   "execution_count": 32,
   "id": "b08d0105",
   "metadata": {},
   "outputs": [],
   "source": [
    "def get_features(correlation_threshold):\n",
    "    abs_corrs=correlations.abs()\n",
    "    high_correlations=abs_corrs[abs_corrs>correlation_threshold].index.values.tolist()\n",
    "    return high_correlations"
   ]
  },
  {
   "cell_type": "code",
   "execution_count": 33,
   "id": "0d6274f1",
   "metadata": {},
   "outputs": [
    {
     "name": "stdout",
     "output_type": "stream",
     "text": [
      "['total_sales', 'tickets_sold', 'show_time', 'occu_perc', 'ticket_price', 'ticket_use']\n"
     ]
    }
   ],
   "source": [
    "#taking correlation more than 0.05 on X axis and Quality on Y axis\n",
    "features=get_features(0.05)\n",
    "print(features)\n",
    "x=df[features]\n",
    "y=df['ticket_price']"
   ]
  },
  {
   "cell_type": "code",
   "execution_count": 34,
   "id": "256f5132",
   "metadata": {},
   "outputs": [
    {
     "data": {
      "text/plain": [
       "{'whiskers': [<matplotlib.lines.Line2D at 0x2192997d030>,\n",
       "  <matplotlib.lines.Line2D at 0x2192997d2d0>],\n",
       " 'caps': [<matplotlib.lines.Line2D at 0x2192997d570>,\n",
       "  <matplotlib.lines.Line2D at 0x2192997d810>],\n",
       " 'boxes': [<matplotlib.lines.Line2D at 0x2192997cd90>],\n",
       " 'medians': [<matplotlib.lines.Line2D at 0x2192997dab0>],\n",
       " 'fliers': [<matplotlib.lines.Line2D at 0x2192997dd50>],\n",
       " 'means': []}"
      ]
     },
     "execution_count": 34,
     "metadata": {},
     "output_type": "execute_result"
    },
    {
     "data": {
      "image/png": "[encoded data removed]",
      "text/plain": [
       "<Figure size 640x480 with 1 Axes>"
      ]
     },
     "metadata": {},
     "output_type": "display_data"
    }
   ],
   "source": [
    "plt.boxplot(df['total_sales'])"
   ]
  },
  {
   "cell_type": "code",
   "execution_count": 35,
   "id": "046d0a5f",
   "metadata": {},
   "outputs": [
    {
     "name": "stderr",
     "output_type": "stream",
     "text": [
      "C:\\Users\\KIIT\\AppData\\Local\\Temp\\ipykernel_18164\\761655592.py:1: UserWarning: \n",
      "\n",
      "`distplot` is a deprecated function and will be removed in seaborn v0.14.0.\n",
      "\n",
      "Please adapt your code to use either `displot` (a figure-level function with\n",
      "similar flexibility) or `histplot` (an axes-level function for histograms).\n",
      "\n",
      "For a guide to updating your code to use the new functions, please see\n",
      "https://gist.github.com/mwaskom/de44147ed2974457ad6372750bbe5751\n",
      "\n",
      "  sns.distplot(df[\"ticket_price\"],kde=False)\n"
     ]
    },
    {
     "data": {
      "text/plain": [
       "<Axes: xlabel='ticket_price'>"
      ]
     },
     "execution_count": 35,
     "metadata": {},
     "output_type": "execute_result"
    },
    {
     "data": {
      "image/png": "[encoded data removed]",
      "text/plain": [
       "<Figure size 640x480 with 1 Axes>"
      ]
     },
     "metadata": {},
     "output_type": "display_data"
    }
   ],
   "source": [
    "sns.distplot(df[\"ticket_price\"],kde=False)"
   ]
  },
  {
   "cell_type": "code",
   "execution_count": 36,
   "id": "2f98cb08",
   "metadata": {},
   "outputs": [
    {
     "data": {
      "text/plain": [
       "total_sales       0\n",
       "tickets_sold      0\n",
       "tickets_out       0\n",
       "show_time         0\n",
       "occu_perc       125\n",
       "ticket_price      0\n",
       "ticket_use        0\n",
       "capacity        125\n",
       "date              0\n",
       "month             0\n",
       "quarter           0\n",
       "day               0\n",
       "dtype: int64"
      ]
     },
     "execution_count": 36,
     "metadata": {},
     "output_type": "execute_result"
    }
   ],
   "source": [
    "df.isnull().sum()\n"
   ]
  },
  {
   "cell_type": "code",
   "execution_count": 37,
   "id": "c89ab1f0",
   "metadata": {},
   "outputs": [
    {
     "name": "stdout",
     "output_type": "stream",
     "text": [
      "Null values are dropped\n"
     ]
    }
   ],
   "source": [
    "df.dropna(inplace=True)\n",
    "print(\"Null values are dropped\")"
   ]
  },
  {
   "cell_type": "code",
   "execution_count": 38,
   "id": "3a49324f",
   "metadata": {},
   "outputs": [
    {
     "data": {
      "text/plain": [
       "total_sales     0\n",
       "tickets_sold    0\n",
       "tickets_out     0\n",
       "show_time       0\n",
       "occu_perc       0\n",
       "ticket_price    0\n",
       "ticket_use      0\n",
       "capacity        0\n",
       "date            0\n",
       "month           0\n",
       "quarter         0\n",
       "day             0\n",
       "dtype: int64"
      ]
     },
     "execution_count": 38,
     "metadata": {},
     "output_type": "execute_result"
    }
   ],
   "source": [
    "df.isnull().sum()"
   ]
  },
  {
   "cell_type": "code",
   "execution_count": 39,
   "id": "5f2f092a",
   "metadata": {},
   "outputs": [],
   "source": [
    "x=df[['tickets_sold', 'show_time', 'occu_perc', 'ticket_price', 'ticket_use']]\n",
    "y=df['total_sales']"
   ]
  },
  {
   "cell_type": "code",
   "execution_count": 40,
   "id": "8fd73d02",
   "metadata": {},
   "outputs": [
    {
     "data": {
      "text/html": [
       "<div>\n",
       "<style scoped>\n",
       "    .dataframe tbody tr th:only-of-type {\n",
       "        vertical-align: middle;\n",
       "    }\n",
       "\n",
       "    .dataframe tbody tr th {\n",
       "        vertical-align: top;\n",
       "    }\n",
       "\n",
       "    .dataframe thead th {\n",
       "        text-align: right;\n",
       "    }\n",
       "</style>\n",
       "<table border=\"1\" class=\"dataframe\">\n",
       "  <thead>\n",
       "    <tr style=\"text-align: right;\">\n",
       "      <th></th>\n",
       "      <th>tickets_sold</th>\n",
       "      <th>show_time</th>\n",
       "      <th>occu_perc</th>\n",
       "      <th>ticket_price</th>\n",
       "      <th>ticket_use</th>\n",
       "    </tr>\n",
       "  </thead>\n",
       "  <tbody>\n",
       "    <tr>\n",
       "      <th>0</th>\n",
       "      <td>26</td>\n",
       "      <td>4</td>\n",
       "      <td>4.26</td>\n",
       "      <td>150000.0</td>\n",
       "      <td>26</td>\n",
       "    </tr>\n",
       "    <tr>\n",
       "      <th>1</th>\n",
       "      <td>42</td>\n",
       "      <td>5</td>\n",
       "      <td>8.08</td>\n",
       "      <td>80000.0</td>\n",
       "      <td>42</td>\n",
       "    </tr>\n",
       "    <tr>\n",
       "      <th>2</th>\n",
       "      <td>32</td>\n",
       "      <td>4</td>\n",
       "      <td>20.00</td>\n",
       "      <td>80000.0</td>\n",
       "      <td>32</td>\n",
       "    </tr>\n",
       "    <tr>\n",
       "      <th>3</th>\n",
       "      <td>12</td>\n",
       "      <td>1</td>\n",
       "      <td>11.01</td>\n",
       "      <td>100000.0</td>\n",
       "      <td>12</td>\n",
       "    </tr>\n",
       "    <tr>\n",
       "      <th>4</th>\n",
       "      <td>15</td>\n",
       "      <td>3</td>\n",
       "      <td>16.67</td>\n",
       "      <td>80000.0</td>\n",
       "      <td>15</td>\n",
       "    </tr>\n",
       "    <tr>\n",
       "      <th>...</th>\n",
       "      <td>...</td>\n",
       "      <td>...</td>\n",
       "      <td>...</td>\n",
       "      <td>...</td>\n",
       "      <td>...</td>\n",
       "    </tr>\n",
       "    <tr>\n",
       "      <th>142519</th>\n",
       "      <td>22</td>\n",
       "      <td>2</td>\n",
       "      <td>3.86</td>\n",
       "      <td>60000.0</td>\n",
       "      <td>22</td>\n",
       "    </tr>\n",
       "    <tr>\n",
       "      <th>142520</th>\n",
       "      <td>15</td>\n",
       "      <td>1</td>\n",
       "      <td>65.22</td>\n",
       "      <td>80000.0</td>\n",
       "      <td>15</td>\n",
       "    </tr>\n",
       "    <tr>\n",
       "      <th>142521</th>\n",
       "      <td>8</td>\n",
       "      <td>3</td>\n",
       "      <td>9.20</td>\n",
       "      <td>132500.0</td>\n",
       "      <td>8</td>\n",
       "    </tr>\n",
       "    <tr>\n",
       "      <th>142522</th>\n",
       "      <td>5</td>\n",
       "      <td>2</td>\n",
       "      <td>5.00</td>\n",
       "      <td>120000.0</td>\n",
       "      <td>5</td>\n",
       "    </tr>\n",
       "    <tr>\n",
       "      <th>142523</th>\n",
       "      <td>5</td>\n",
       "      <td>1</td>\n",
       "      <td>1.79</td>\n",
       "      <td>50000.0</td>\n",
       "      <td>5</td>\n",
       "    </tr>\n",
       "  </tbody>\n",
       "</table>\n",
       "<p>142399 rows × 5 columns</p>\n",
       "</div>"
      ],
      "text/plain": [
       "        tickets_sold  show_time  occu_perc  ticket_price  ticket_use\n",
       "0                 26          4       4.26      150000.0          26\n",
       "1                 42          5       8.08       80000.0          42\n",
       "2                 32          4      20.00       80000.0          32\n",
       "3                 12          1      11.01      100000.0          12\n",
       "4                 15          3      16.67       80000.0          15\n",
       "...              ...        ...        ...           ...         ...\n",
       "142519            22          2       3.86       60000.0          22\n",
       "142520            15          1      65.22       80000.0          15\n",
       "142521             8          3       9.20      132500.0           8\n",
       "142522             5          2       5.00      120000.0           5\n",
       "142523             5          1       1.79       50000.0           5\n",
       "\n",
       "[142399 rows x 5 columns]"
      ]
     },
     "execution_count": 40,
     "metadata": {},
     "output_type": "execute_result"
    }
   ],
   "source": [
    "x"
   ]
  },
  {
   "cell_type": "code",
   "execution_count": 41,
   "id": "0e9f1c93",
   "metadata": {},
   "outputs": [],
   "source": [
    "x_train,x_test,y_train,y_test=train_test_split(x,y,test_size=0.30,random_state=56)"
   ]
  },
  {
   "cell_type": "code",
   "execution_count": 42,
   "id": "4e67ca0d",
   "metadata": {},
   "outputs": [
    {
     "data": {
      "text/html": [
       "<style>#sk-container-id-1 {color: black;background-color: white;}#sk-container-id-1 pre{padding: 0;}#sk-container-id-1 div.sk-toggleable {background-color: white;}#sk-container-id-1 label.sk-toggleable__label {cursor: pointer;display: block;width: 100%;margin-bottom: 0;padding: 0.3em;box-sizing: border-box;text-align: center;}#sk-container-id-1 label.sk-toggleable__label-arrow:before {content: \"▸\";float: left;margin-right: 0.25em;color: #696969;}#sk-container-id-1 label.sk-toggleable__label-arrow:hover:before {color: black;}#sk-container-id-1 div.sk-estimator:hover label.sk-toggleable__label-arrow:before {color: black;}#sk-container-id-1 div.sk-toggleable__content {max-height: 0;max-width: 0;overflow: hidden;text-align: left;background-color: #f0f8ff;}#sk-container-id-1 div.sk-toggleable__content pre {margin: 0.2em;color: black;border-radius: 0.25em;background-color: #f0f8ff;}#sk-container-id-1 input.sk-toggleable__control:checked~div.sk-toggleable__content {max-height: 200px;max-width: 100%;overflow: auto;}#sk-container-id-1 input.sk-toggleable__control:checked~label.sk-toggleable__label-arrow:before {content: \"▾\";}#sk-container-id-1 div.sk-estimator input.sk-toggleable__control:checked~label.sk-toggleable__label {background-color: #d4ebff;}#sk-container-id-1 div.sk-label input.sk-toggleable__control:checked~label.sk-toggleable__label {background-color: #d4ebff;}#sk-container-id-1 input.sk-hidden--visually {border: 0;clip: rect(1px 1px 1px 1px);clip: rect(1px, 1px, 1px, 1px);height: 1px;margin: -1px;overflow: hidden;padding: 0;position: absolute;width: 1px;}#sk-container-id-1 div.sk-estimator {font-family: monospace;background-color: #f0f8ff;border: 1px dotted black;border-radius: 0.25em;box-sizing: border-box;margin-bottom: 0.5em;}#sk-container-id-1 div.sk-estimator:hover {background-color: #d4ebff;}#sk-container-id-1 div.sk-parallel-item::after {content: \"\";width: 100%;border-bottom: 1px solid gray;flex-grow: 1;}#sk-container-id-1 div.sk-label:hover label.sk-toggleable__label {background-color: #d4ebff;}#sk-container-id-1 div.sk-serial::before {content: \"\";position: absolute;border-left: 1px solid gray;box-sizing: border-box;top: 0;bottom: 0;left: 50%;z-index: 0;}#sk-container-id-1 div.sk-serial {display: flex;flex-direction: column;align-items: center;background-color: white;padding-right: 0.2em;padding-left: 0.2em;position: relative;}#sk-container-id-1 div.sk-item {position: relative;z-index: 1;}#sk-container-id-1 div.sk-parallel {display: flex;align-items: stretch;justify-content: center;background-color: white;position: relative;}#sk-container-id-1 div.sk-item::before, #sk-container-id-1 div.sk-parallel-item::before {content: \"\";position: absolute;border-left: 1px solid gray;box-sizing: border-box;top: 0;bottom: 0;left: 50%;z-index: -1;}#sk-container-id-1 div.sk-parallel-item {display: flex;flex-direction: column;z-index: 1;position: relative;background-color: white;}#sk-container-id-1 div.sk-parallel-item:first-child::after {align-self: flex-end;width: 50%;}#sk-container-id-1 div.sk-parallel-item:last-child::after {align-self: flex-start;width: 50%;}#sk-container-id-1 div.sk-parallel-item:only-child::after {width: 0;}#sk-container-id-1 div.sk-dashed-wrapped {border: 1px dashed gray;margin: 0 0.4em 0.5em 0.4em;box-sizing: border-box;padding-bottom: 0.4em;background-color: white;}#sk-container-id-1 div.sk-label label {font-family: monospace;font-weight: bold;display: inline-block;line-height: 1.2em;}#sk-container-id-1 div.sk-label-container {text-align: center;}#sk-container-id-1 div.sk-container {/* jupyter's `normalize.less` sets `[hidden] { display: none; }` but bootstrap.min.css set `[hidden] { display: none !important; }` so we also need the `!important` here to be able to override the default hidden behavior on the sphinx rendered scikit-learn.org. See: https://github.com/scikit-learn/scikit-learn/issues/21755 */display: inline-block !important;position: relative;}#sk-container-id-1 div.sk-text-repr-fallback {display: none;}</style><div id=\"sk-container-id-1\" class=\"sk-top-container\"><div class=\"sk-text-repr-fallback\"><pre>LinearRegression()</pre><b>In a Jupyter environment, please rerun this cell to show the HTML representation or trust the notebook. <br />On GitHub, the HTML representation is unable to render, please try loading this page with nbviewer.org.</b></div><div class=\"sk-container\" hidden><div class=\"sk-item\"><div class=\"sk-estimator sk-toggleable\"><input class=\"sk-toggleable__control sk-hidden--visually\" id=\"sk-estimator-id-1\" type=\"checkbox\" checked><label for=\"sk-estimator-id-1\" class=\"sk-toggleable__label sk-toggleable__label-arrow\">LinearRegression</label><div class=\"sk-toggleable__content\"><pre>LinearRegression()</pre></div></div></div></div></div>"
      ],
      "text/plain": [
       "LinearRegression()"
      ]
     },
     "execution_count": 42,
     "metadata": {},
     "output_type": "execute_result"
    }
   ],
   "source": [
    "regressor=LinearRegression()\n",
    "regressor.fit(x_train,y_train)\n"
   ]
  },
  {
   "cell_type": "code",
   "execution_count": 43,
   "id": "524f05c2",
   "metadata": {},
   "outputs": [
    {
     "data": {
      "text/plain": [
       "-13831468.911539571"
      ]
     },
     "execution_count": 43,
     "metadata": {},
     "output_type": "execute_result"
    }
   ],
   "source": [
    "regressor.intercept_"
   ]
  },
  {
   "cell_type": "code",
   "execution_count": 44,
   "id": "19f853ce",
   "metadata": {},
   "outputs": [
    {
     "data": {
      "text/plain": [
       "42720"
      ]
     },
     "execution_count": 44,
     "metadata": {},
     "output_type": "execute_result"
    }
   ],
   "source": [
    "predicting_the_dataset=regressor.predict(x_test)\n",
    "predicting_the_dataset.size"
   ]
  },
  {
   "cell_type": "code",
   "execution_count": 45,
   "id": "adde9047",
   "metadata": {},
   "outputs": [
    {
     "data": {
      "image/png": "[encoded data removed]",
      "text/plain": [
       "<Figure size 1200x600 with 1 Axes>"
      ]
     },
     "metadata": {},
     "output_type": "display_data"
    }
   ],
   "source": [
    "plt.figure(figsize=(12,6))\n",
    "plt.scatter(y_test,predicting_the_dataset,color='b')\n",
    "plt.show()"
   ]
  },
  {
   "cell_type": "code",
   "execution_count": 46,
   "id": "24ca6d60",
   "metadata": {},
   "outputs": [
    {
     "name": "stdout",
     "output_type": "stream",
     "text": [
      "R2 Score by applying Linear Regression Method:- 0.87217427395451\n"
     ]
    }
   ],
   "source": [
    "from sklearn.metrics import r2_score\n",
    "r_squared=r2_score(y_test,predicting_the_dataset)\n",
    "r_squared\n",
    "print(\"R2 Score by applying Linear Regression Method:-\",r_squared)"
   ]
  },
  {
   "cell_type": "code",
   "execution_count": 47,
   "id": "06f66411",
   "metadata": {},
   "outputs": [
    {
     "name": "stdout",
     "output_type": "stream",
     "text": [
      "MAE: 4945048.543830934\n",
      "MSE: 127475540012616.75\n",
      "RMSE: 11290506.632238287\n"
     ]
    }
   ],
   "source": [
    "#Let's check for other metrics too\n",
    "print('MAE: {}'.format(metrics.mean_absolute_error(y_test, predicting_the_dataset)))\n",
    "print('MSE: {}'.format(metrics.mean_squared_error(y_test, predicting_the_dataset)))\n",
    "print('RMSE: {}'.format(np.sqrt(metrics.mean_squared_error(y_test, predicting_the_dataset))))"
   ]
  },
  {
   "cell_type": "code",
   "execution_count": 48,
   "id": "ed458256",
   "metadata": {},
   "outputs": [
    {
     "data": {
      "text/html": [
       "<style>#sk-container-id-2 {color: black;background-color: white;}#sk-container-id-2 pre{padding: 0;}#sk-container-id-2 div.sk-toggleable {background-color: white;}#sk-container-id-2 label.sk-toggleable__label {cursor: pointer;display: block;width: 100%;margin-bottom: 0;padding: 0.3em;box-sizing: border-box;text-align: center;}#sk-container-id-2 label.sk-toggleable__label-arrow:before {content: \"▸\";float: left;margin-right: 0.25em;color: #696969;}#sk-container-id-2 label.sk-toggleable__label-arrow:hover:before {color: black;}#sk-container-id-2 div.sk-estimator:hover label.sk-toggleable__label-arrow:before {color: black;}#sk-container-id-2 div.sk-toggleable__content {max-height: 0;max-width: 0;overflow: hidden;text-align: left;background-color: #f0f8ff;}#sk-container-id-2 div.sk-toggleable__content pre {margin: 0.2em;color: black;border-radius: 0.25em;background-color: #f0f8ff;}#sk-container-id-2 input.sk-toggleable__control:checked~div.sk-toggleable__content {max-height: 200px;max-width: 100%;overflow: auto;}#sk-container-id-2 input.sk-toggleable__control:checked~label.sk-toggleable__label-arrow:before {content: \"▾\";}#sk-container-id-2 div.sk-estimator input.sk-toggleable__control:checked~label.sk-toggleable__label {background-color: #d4ebff;}#sk-container-id-2 div.sk-label input.sk-toggleable__control:checked~label.sk-toggleable__label {background-color: #d4ebff;}#sk-container-id-2 input.sk-hidden--visually {border: 0;clip: rect(1px 1px 1px 1px);clip: rect(1px, 1px, 1px, 1px);height: 1px;margin: -1px;overflow: hidden;padding: 0;position: absolute;width: 1px;}#sk-container-id-2 div.sk-estimator {font-family: monospace;background-color: #f0f8ff;border: 1px dotted black;border-radius: 0.25em;box-sizing: border-box;margin-bottom: 0.5em;}#sk-container-id-2 div.sk-estimator:hover {background-color: #d4ebff;}#sk-container-id-2 div.sk-parallel-item::after {content: \"\";width: 100%;border-bottom: 1px solid gray;flex-grow: 1;}#sk-container-id-2 div.sk-label:hover label.sk-toggleable__label {background-color: #d4ebff;}#sk-container-id-2 div.sk-serial::before {content: \"\";position: absolute;border-left: 1px solid gray;box-sizing: border-box;top: 0;bottom: 0;left: 50%;z-index: 0;}#sk-container-id-2 div.sk-serial {display: flex;flex-direction: column;align-items: center;background-color: white;padding-right: 0.2em;padding-left: 0.2em;position: relative;}#sk-container-id-2 div.sk-item {position: relative;z-index: 1;}#sk-container-id-2 div.sk-parallel {display: flex;align-items: stretch;justify-content: center;background-color: white;position: relative;}#sk-container-id-2 div.sk-item::before, #sk-container-id-2 div.sk-parallel-item::before {content: \"\";position: absolute;border-left: 1px solid gray;box-sizing: border-box;top: 0;bottom: 0;left: 50%;z-index: -1;}#sk-container-id-2 div.sk-parallel-item {display: flex;flex-direction: column;z-index: 1;position: relative;background-color: white;}#sk-container-id-2 div.sk-parallel-item:first-child::after {align-self: flex-end;width: 50%;}#sk-container-id-2 div.sk-parallel-item:last-child::after {align-self: flex-start;width: 50%;}#sk-container-id-2 div.sk-parallel-item:only-child::after {width: 0;}#sk-container-id-2 div.sk-dashed-wrapped {border: 1px dashed gray;margin: 0 0.4em 0.5em 0.4em;box-sizing: border-box;padding-bottom: 0.4em;background-color: white;}#sk-container-id-2 div.sk-label label {font-family: monospace;font-weight: bold;display: inline-block;line-height: 1.2em;}#sk-container-id-2 div.sk-label-container {text-align: center;}#sk-container-id-2 div.sk-container {/* jupyter's `normalize.less` sets `[hidden] { display: none; }` but bootstrap.min.css set `[hidden] { display: none !important; }` so we also need the `!important` here to be able to override the default hidden behavior on the sphinx rendered scikit-learn.org. See: https://github.com/scikit-learn/scikit-learn/issues/21755 */display: inline-block !important;position: relative;}#sk-container-id-2 div.sk-text-repr-fallback {display: none;}</style><div id=\"sk-container-id-2\" class=\"sk-top-container\"><div class=\"sk-text-repr-fallback\"><pre>KNeighborsClassifier()</pre><b>In a Jupyter environment, please rerun this cell to show the HTML representation or trust the notebook. <br />On GitHub, the HTML representation is unable to render, please try loading this page with nbviewer.org.</b></div><div class=\"sk-container\" hidden><div class=\"sk-item\"><div class=\"sk-estimator sk-toggleable\"><input class=\"sk-toggleable__control sk-hidden--visually\" id=\"sk-estimator-id-2\" type=\"checkbox\" checked><label for=\"sk-estimator-id-2\" class=\"sk-toggleable__label sk-toggleable__label-arrow\">KNeighborsClassifier</label><div class=\"sk-toggleable__content\"><pre>KNeighborsClassifier()</pre></div></div></div></div></div>"
      ],
      "text/plain": [
       "KNeighborsClassifier()"
      ]
     },
     "execution_count": 48,
     "metadata": {},
     "output_type": "execute_result"
    }
   ],
   "source": [
    "#Using KNN Classifier \n",
    "\n",
    "from sklearn.neighbors import KNeighborsClassifier  \n",
    "classifier= KNeighborsClassifier(n_neighbors=5, metric='minkowski', p=2 )  \n",
    "classifier.fit(x_train, y_train) "
   ]
  },
  {
   "cell_type": "code",
   "execution_count": 49,
   "id": "5555d718",
   "metadata": {},
   "outputs": [
    {
     "data": {
      "text/plain": [
       "array([ 1260000,   960000, 22140000, ...,  8400000,  6400000,  1800000],\n",
       "      dtype=int64)"
      ]
     },
     "execution_count": 49,
     "metadata": {},
     "output_type": "execute_result"
    }
   ],
   "source": [
    "#Predicting the test set result  \n",
    "y_pred= classifier.predict(x_test) \n",
    "y_pred"
   ]
  },
  {
   "cell_type": "code",
   "execution_count": 50,
   "id": "23bd683c",
   "metadata": {},
   "outputs": [
    {
     "data": {
      "text/plain": [
       "array([[0, 0, 0, ..., 0, 0, 0],\n",
       "       [0, 0, 0, ..., 0, 0, 0],\n",
       "       [0, 0, 0, ..., 0, 0, 0],\n",
       "       ...,\n",
       "       [0, 0, 0, ..., 0, 0, 0],\n",
       "       [0, 0, 0, ..., 1, 0, 0],\n",
       "       [0, 0, 0, ..., 1, 0, 0]], dtype=int64)"
      ]
     },
     "execution_count": 50,
     "metadata": {},
     "output_type": "execute_result"
    }
   ],
   "source": [
    "#Creating the Confusion matrix  \n",
    "from sklearn.metrics import confusion_matrix  \n",
    "cm= confusion_matrix(y_test, y_pred)\n",
    "cm"
   ]
  },
  {
   "cell_type": "code",
   "execution_count": 51,
   "id": "60be328e",
   "metadata": {},
   "outputs": [
    {
     "name": "stdout",
     "output_type": "stream",
     "text": [
      "R2 Score by applying KNN Classifier:- 0.9610027720968329\n"
     ]
    }
   ],
   "source": [
    "rr_squared=r2_score(y_test,y_pred)\n",
    "rr_squared\n",
    "print(\"R2 Score by applying KNN Classifier:-\",rr_squared)"
   ]
  },
  {
   "cell_type": "code",
   "execution_count": 52,
   "id": "00a5d7d6",
   "metadata": {},
   "outputs": [
    {
     "data": {
      "text/html": [
       "<style>#sk-container-id-3 {color: black;background-color: white;}#sk-container-id-3 pre{padding: 0;}#sk-container-id-3 div.sk-toggleable {background-color: white;}#sk-container-id-3 label.sk-toggleable__label {cursor: pointer;display: block;width: 100%;margin-bottom: 0;padding: 0.3em;box-sizing: border-box;text-align: center;}#sk-container-id-3 label.sk-toggleable__label-arrow:before {content: \"▸\";float: left;margin-right: 0.25em;color: #696969;}#sk-container-id-3 label.sk-toggleable__label-arrow:hover:before {color: black;}#sk-container-id-3 div.sk-estimator:hover label.sk-toggleable__label-arrow:before {color: black;}#sk-container-id-3 div.sk-toggleable__content {max-height: 0;max-width: 0;overflow: hidden;text-align: left;background-color: #f0f8ff;}#sk-container-id-3 div.sk-toggleable__content pre {margin: 0.2em;color: black;border-radius: 0.25em;background-color: #f0f8ff;}#sk-container-id-3 input.sk-toggleable__control:checked~div.sk-toggleable__content {max-height: 200px;max-width: 100%;overflow: auto;}#sk-container-id-3 input.sk-toggleable__control:checked~label.sk-toggleable__label-arrow:before {content: \"▾\";}#sk-container-id-3 div.sk-estimator input.sk-toggleable__control:checked~label.sk-toggleable__label {background-color: #d4ebff;}#sk-container-id-3 div.sk-label input.sk-toggleable__control:checked~label.sk-toggleable__label {background-color: #d4ebff;}#sk-container-id-3 input.sk-hidden--visually {border: 0;clip: rect(1px 1px 1px 1px);clip: rect(1px, 1px, 1px, 1px);height: 1px;margin: -1px;overflow: hidden;padding: 0;position: absolute;width: 1px;}#sk-container-id-3 div.sk-estimator {font-family: monospace;background-color: #f0f8ff;border: 1px dotted black;border-radius: 0.25em;box-sizing: border-box;margin-bottom: 0.5em;}#sk-container-id-3 div.sk-estimator:hover {background-color: #d4ebff;}#sk-container-id-3 div.sk-parallel-item::after {content: \"\";width: 100%;border-bottom: 1px solid gray;flex-grow: 1;}#sk-container-id-3 div.sk-label:hover label.sk-toggleable__label {background-color: #d4ebff;}#sk-container-id-3 div.sk-serial::before {content: \"\";position: absolute;border-left: 1px solid gray;box-sizing: border-box;top: 0;bottom: 0;left: 50%;z-index: 0;}#sk-container-id-3 div.sk-serial {display: flex;flex-direction: column;align-items: center;background-color: white;padding-right: 0.2em;padding-left: 0.2em;position: relative;}#sk-container-id-3 div.sk-item {position: relative;z-index: 1;}#sk-container-id-3 div.sk-parallel {display: flex;align-items: stretch;justify-content: center;background-color: white;position: relative;}#sk-container-id-3 div.sk-item::before, #sk-container-id-3 div.sk-parallel-item::before {content: \"\";position: absolute;border-left: 1px solid gray;box-sizing: border-box;top: 0;bottom: 0;left: 50%;z-index: -1;}#sk-container-id-3 div.sk-parallel-item {display: flex;flex-direction: column;z-index: 1;position: relative;background-color: white;}#sk-container-id-3 div.sk-parallel-item:first-child::after {align-self: flex-end;width: 50%;}#sk-container-id-3 div.sk-parallel-item:last-child::after {align-self: flex-start;width: 50%;}#sk-container-id-3 div.sk-parallel-item:only-child::after {width: 0;}#sk-container-id-3 div.sk-dashed-wrapped {border: 1px dashed gray;margin: 0 0.4em 0.5em 0.4em;box-sizing: border-box;padding-bottom: 0.4em;background-color: white;}#sk-container-id-3 div.sk-label label {font-family: monospace;font-weight: bold;display: inline-block;line-height: 1.2em;}#sk-container-id-3 div.sk-label-container {text-align: center;}#sk-container-id-3 div.sk-container {/* jupyter's `normalize.less` sets `[hidden] { display: none; }` but bootstrap.min.css set `[hidden] { display: none !important; }` so we also need the `!important` here to be able to override the default hidden behavior on the sphinx rendered scikit-learn.org. See: https://github.com/scikit-learn/scikit-learn/issues/21755 */display: inline-block !important;position: relative;}#sk-container-id-3 div.sk-text-repr-fallback {display: none;}</style><div id=\"sk-container-id-3\" class=\"sk-top-container\"><div class=\"sk-text-repr-fallback\"><pre>DecisionTreeClassifier(criterion=&#x27;entropy&#x27;, random_state=0)</pre><b>In a Jupyter environment, please rerun this cell to show the HTML representation or trust the notebook. <br />On GitHub, the HTML representation is unable to render, please try loading this page with nbviewer.org.</b></div><div class=\"sk-container\" hidden><div class=\"sk-item\"><div class=\"sk-estimator sk-toggleable\"><input class=\"sk-toggleable__control sk-hidden--visually\" id=\"sk-estimator-id-3\" type=\"checkbox\" checked><label for=\"sk-estimator-id-3\" class=\"sk-toggleable__label sk-toggleable__label-arrow\">DecisionTreeClassifier</label><div class=\"sk-toggleable__content\"><pre>DecisionTreeClassifier(criterion=&#x27;entropy&#x27;, random_state=0)</pre></div></div></div></div></div>"
      ],
      "text/plain": [
       "DecisionTreeClassifier(criterion='entropy', random_state=0)"
      ]
     },
     "execution_count": 52,
     "metadata": {},
     "output_type": "execute_result"
    }
   ],
   "source": [
    "from sklearn.tree import DecisionTreeClassifier  \n",
    "classifier1= DecisionTreeClassifier(criterion='entropy', random_state=0)  \n",
    "classifier1.fit(x_train, y_train)  "
   ]
  },
  {
   "cell_type": "code",
   "execution_count": 53,
   "id": "cfb2a629",
   "metadata": {},
   "outputs": [
    {
     "data": {
      "text/plain": [
       "array([ 1260000,   960000, 38580000, ...,  8500000,  6500000,  1800000],\n",
       "      dtype=int64)"
      ]
     },
     "execution_count": 53,
     "metadata": {},
     "output_type": "execute_result"
    }
   ],
   "source": [
    "y1_pred= classifier1.predict(x_test) \n",
    "y1_pred"
   ]
  },
  {
   "cell_type": "code",
   "execution_count": 54,
   "id": "54e53ad1",
   "metadata": {},
   "outputs": [
    {
     "name": "stdout",
     "output_type": "stream",
     "text": [
      "R2 Score by applying Decision Tree:- 0.9773992832920176\n"
     ]
    }
   ],
   "source": [
    "rr1_squared=r2_score(y_test,y1_pred)\n",
    "rr1_squared\n",
    "print(\"R2 Score by applying Decision Tree:-\",rr1_squared)"
   ]
  },
  {
   "cell_type": "code",
   "execution_count": 55,
   "id": "3307d1be",
   "metadata": {},
   "outputs": [
    {
     "data": {
      "image/png": "[encoded data removed]",
      "text/plain": [
       "<Figure size 1200x600 with 1 Axes>"
      ]
     },
     "metadata": {},
     "output_type": "display_data"
    }
   ],
   "source": [
    "#Applying graph for Decision tree\n",
    "plt.figure(figsize=(12,6))\n",
    "plt.scatter(y_test,y1_pred,color='b')\n",
    "plt.show()"
   ]
  },
  {
   "cell_type": "code",
   "execution_count": 59,
   "id": "61108590",
   "metadata": {},
   "outputs": [
    {
     "name": "stdout",
     "output_type": "stream",
     "text": [
      "MAE: 385434.292673221\n",
      "MSE: 22538800726208.496\n",
      "RMSE: 4747504.6841692\n"
     ]
    }
   ],
   "source": [
    "#Let's check for other metrics too\n",
    "print('MAE: {}'.format(metrics.mean_absolute_error(y_test, y1_pred)))\n",
    "print('MSE: {}'.format(metrics.mean_squared_error(y_test, y1_pred)))\n",
    "print('RMSE: {}'.format(np.sqrt(metrics.mean_squared_error(y_test, y1_pred))))"
   ]
  },
  {
   "cell_type": "markdown",
   "id": "978bc6a5",
   "metadata": {},
   "source": [
    "## In this project we use Linear Regression Model,KNN Model,Decision Tree Model to get best model for ticket price prediction and we conclude that \n",
    "\n",
    "## R2 Score for different models are as such\n",
    "## Linear Regression :-0.87217427395451\n",
    "## KNN Model :-0.9610027720968329\n",
    "## Decision Tree Model:- 0.9773992832920176"
   ]
  },
  {
   "cell_type": "code",
   "execution_count": null,
   "id": "6b9fd316",
   "metadata": {},
   "outputs": [],
   "source": []
  },
  {
   "cell_type": "code",
   "execution_count": null,
   "id": "0f1ab033",
   "metadata": {},
   "outputs": [],
   "source": []
  },
  {
   "cell_type": "code",
   "execution_count": null,
   "id": "84314cb4",
   "metadata": {},
   "outputs": [],
   "source": []
  }
 ],
 "metadata": {
  "kernelspec": {
   "display_name": "Python 3 (ipykernel)",
   "language": "python",
   "name": "python3"
  },
  "language_info": {
   "codemirror_mode": {
    "name": "ipython",
    "version": 3
   },
   "file_extension": ".py",
   "mimetype": "text/x-python",
   "name": "python",
   "nbconvert_exporter": "python",
   "pygments_lexer": "ipython3",
   "version": "3.10.6"
  }
 },
 "nbformat": 4,
 "nbformat_minor": 5
}
